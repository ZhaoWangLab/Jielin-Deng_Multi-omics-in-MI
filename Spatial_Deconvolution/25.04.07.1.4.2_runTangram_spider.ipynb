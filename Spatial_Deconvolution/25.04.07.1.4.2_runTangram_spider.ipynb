{
 "cells": [
  {
   "cell_type": "code",
   "execution_count": 1,
   "id": "2c1b7e0b-3c1d-4c87-83ee-1afcd7ab2d8d",
   "metadata": {},
   "outputs": [],
   "source": [
    "spatialSample=\"spider\" #p16 or spider. Key."
   ]
  },
  {
   "cell_type": "code",
   "execution_count": 2,
   "id": "b466c771-9f9c-4d0a-913b-9284281550cb",
   "metadata": {},
   "outputs": [],
   "source": [
    "import scanpy as sc\n",
    "import numpy as np\n",
    "import pandas as pd\n",
    "import tangram as tg\n",
    "\n",
    "#This takes a few minutes."
   ]
  },
  {
   "cell_type": "code",
   "execution_count": 3,
   "id": "88a9031d-d803-4316-9916-be05160a5cb5",
   "metadata": {},
   "outputs": [],
   "source": [
    "adata_st=sc.read_h5ad(f\"/home/hezhou/_Projects/25.02.27_Jielin_Senescence/25.04.07_prepareData/_Data/dataSpatial_{spatialSample}.h5ad\")\n",
    "adata_sc=sc.read_h5ad(\"/home/hezhou/_Projects/25.02.27_Jielin_Senescence/25.04.07_prepareData/_Data/dataSnRNASeq.h5ad\")\n",
    "\n",
    "#This takes a moment."
   ]
  },
  {
   "cell_type": "code",
   "execution_count": 4,
   "id": "de6f8171-0562-4592-a962-e6029adc70da",
   "metadata": {},
   "outputs": [
    {
     "data": {
      "text/plain": [
       "(1420, 19465)"
      ]
     },
     "execution_count": 4,
     "metadata": {},
     "output_type": "execute_result"
    }
   ],
   "source": [
    "adata_st.X.shape #Cell by gene."
   ]
  },
  {
   "cell_type": "code",
   "execution_count": 5,
   "id": "57f5cb88-86c9-497e-8686-8ff98a0ab6dd",
   "metadata": {},
   "outputs": [
    {
     "data": {
      "text/plain": [
       "(44573, 32285)"
      ]
     },
     "execution_count": 5,
     "metadata": {},
     "output_type": "execute_result"
    }
   ],
   "source": [
    "adata_sc.X.shape #Cell by gene."
   ]
  },
  {
   "cell_type": "code",
   "execution_count": 6,
   "id": "41448c11-e55a-4cb2-a636-c6c2b636fb84",
   "metadata": {},
   "outputs": [],
   "source": [
    "# sc.tl.rank_genes_groups(adata_sc,groupby=\"celltype\",use_raw=False)\n",
    "\n",
    "#WARNING: It seems you use rank_genes_groups on the raw count data. Please logarithmize your data before calling rank_genes_groups."
   ]
  },
  {
   "cell_type": "code",
   "execution_count": 7,
   "id": "527be2a8-b1ef-4584-8401-459c36fa18de",
   "metadata": {},
   "outputs": [],
   "source": [
    "adata_sc2=adata_sc.copy() #Create unlinked copy."
   ]
  },
  {
   "cell_type": "code",
   "execution_count": 8,
   "id": "21372499-3c87-4d55-8b75-006297fe1e0d",
   "metadata": {},
   "outputs": [],
   "source": [
    "sc.pp.log1p(adata_sc2)"
   ]
  },
  {
   "cell_type": "code",
   "execution_count": 9,
   "id": "f9926e4b-961f-4460-bc82-fb91df4fad15",
   "metadata": {},
   "outputs": [],
   "source": [
    "# print(adata_sc2.X)"
   ]
  },
  {
   "cell_type": "code",
   "execution_count": 10,
   "id": "651cb88b-f3ac-4adb-94a8-92be5c590604",
   "metadata": {},
   "outputs": [],
   "source": [
    "sc.tl.rank_genes_groups(adata_sc2,groupby=\"celltype\",use_raw=False)\n",
    "\n",
    "#This takes a minute or so."
   ]
  },
  {
   "cell_type": "code",
   "execution_count": 11,
   "id": "552ce923-1700-4019-9c3b-2efff4b93db9",
   "metadata": {},
   "outputs": [],
   "source": [
    "markers_df=pd.DataFrame(adata_sc2.uns[\"rank_genes_groups\"][\"names\"]).iloc[0:100,:] #Take top 100 marker genes per cell type."
   ]
  },
  {
   "cell_type": "code",
   "execution_count": 12,
   "id": "ebf32873-0116-4896-9086-55674a79e65c",
   "metadata": {},
   "outputs": [
    {
     "data": {
      "text/html": [
       "<div>\n",
       "<style scoped>\n",
       "    .dataframe tbody tr th:only-of-type {\n",
       "        vertical-align: middle;\n",
       "    }\n",
       "\n",
       "    .dataframe tbody tr th {\n",
       "        vertical-align: top;\n",
       "    }\n",
       "\n",
       "    .dataframe thead th {\n",
       "        text-align: right;\n",
       "    }\n",
       "</style>\n",
       "<table border=\"1\" class=\"dataframe\">\n",
       "  <thead>\n",
       "    <tr style=\"text-align: right;\">\n",
       "      <th></th>\n",
       "      <th>Cardiomyocytes</th>\n",
       "      <th>Dentritic cells</th>\n",
       "      <th>Endothelial cells</th>\n",
       "      <th>Epicardial cells</th>\n",
       "      <th>Fibroblasts</th>\n",
       "      <th>Immune-B cells</th>\n",
       "      <th>Immune-T cells</th>\n",
       "      <th>Macrophages</th>\n",
       "      <th>Pericytes</th>\n",
       "      <th>Smooth muscle cells</th>\n",
       "    </tr>\n",
       "  </thead>\n",
       "  <tbody>\n",
       "    <tr>\n",
       "      <th>0</th>\n",
       "      <td>Ttn</td>\n",
       "      <td>Dock10</td>\n",
       "      <td>Ptprb</td>\n",
       "      <td>Slit3</td>\n",
       "      <td>Col8a1</td>\n",
       "      <td>Bank1</td>\n",
       "      <td>Skap1</td>\n",
       "      <td>Dock2</td>\n",
       "      <td>Dlc1</td>\n",
       "      <td>Kcnab1</td>\n",
       "    </tr>\n",
       "    <tr>\n",
       "      <th>1</th>\n",
       "      <td>Ryr2</td>\n",
       "      <td>Tbc1d8</td>\n",
       "      <td>Cdh13</td>\n",
       "      <td>Efna5</td>\n",
       "      <td>Gpc6</td>\n",
       "      <td>Arhgap15</td>\n",
       "      <td>Dock2</td>\n",
       "      <td>Fyb</td>\n",
       "      <td>Prkg1</td>\n",
       "      <td>Prkg1</td>\n",
       "    </tr>\n",
       "    <tr>\n",
       "      <th>2</th>\n",
       "      <td>Sorbs1</td>\n",
       "      <td>Dock2</td>\n",
       "      <td>Flt1</td>\n",
       "      <td>Ncam1</td>\n",
       "      <td>Rbms3</td>\n",
       "      <td>Ripor2</td>\n",
       "      <td>Ptprc</td>\n",
       "      <td>Zeb2</td>\n",
       "      <td>Notch3</td>\n",
       "      <td>Ctnna3</td>\n",
       "    </tr>\n",
       "    <tr>\n",
       "      <th>3</th>\n",
       "      <td>Tnnt2</td>\n",
       "      <td>Wdfy4</td>\n",
       "      <td>Pecam1</td>\n",
       "      <td>Zfpm2</td>\n",
       "      <td>Tenm3</td>\n",
       "      <td>Aff3</td>\n",
       "      <td>Gm2682</td>\n",
       "      <td>Ptprc</td>\n",
       "      <td>Pdgfrb</td>\n",
       "      <td>Myh11</td>\n",
       "    </tr>\n",
       "    <tr>\n",
       "      <th>4</th>\n",
       "      <td>Rbm20</td>\n",
       "      <td>Flt3</td>\n",
       "      <td>Ptprm</td>\n",
       "      <td>Wt1</td>\n",
       "      <td>Col5a2</td>\n",
       "      <td>Bach2</td>\n",
       "      <td>Arhgap15</td>\n",
       "      <td>Myo1f</td>\n",
       "      <td>Gpc6</td>\n",
       "      <td>Dmd</td>\n",
       "    </tr>\n",
       "    <tr>\n",
       "      <th>...</th>\n",
       "      <td>...</td>\n",
       "      <td>...</td>\n",
       "      <td>...</td>\n",
       "      <td>...</td>\n",
       "      <td>...</td>\n",
       "      <td>...</td>\n",
       "      <td>...</td>\n",
       "      <td>...</td>\n",
       "      <td>...</td>\n",
       "      <td>...</td>\n",
       "    </tr>\n",
       "    <tr>\n",
       "      <th>95</th>\n",
       "      <td>Myl2</td>\n",
       "      <td>Ap1s3</td>\n",
       "      <td>Nova2</td>\n",
       "      <td>Magi2</td>\n",
       "      <td>Adamts6</td>\n",
       "      <td>B3gnt5</td>\n",
       "      <td>Gm26740</td>\n",
       "      <td>St18</td>\n",
       "      <td>Meg3</td>\n",
       "      <td>Tbx2</td>\n",
       "    </tr>\n",
       "    <tr>\n",
       "      <th>96</th>\n",
       "      <td>Cdh13</td>\n",
       "      <td>Gm15987</td>\n",
       "      <td>Dgkh</td>\n",
       "      <td>mt-Co2</td>\n",
       "      <td>Tmem45a</td>\n",
       "      <td>Stap1</td>\n",
       "      <td>Apbb1ip</td>\n",
       "      <td>Cyth4</td>\n",
       "      <td>Epas1</td>\n",
       "      <td>Cyp7b1</td>\n",
       "    </tr>\n",
       "    <tr>\n",
       "      <th>97</th>\n",
       "      <td>Grm1</td>\n",
       "      <td>Prex1</td>\n",
       "      <td>Dock6</td>\n",
       "      <td>Gm12840</td>\n",
       "      <td>Ext1</td>\n",
       "      <td>Ly86</td>\n",
       "      <td>Pdcd4</td>\n",
       "      <td>Gng2</td>\n",
       "      <td>Adap2</td>\n",
       "      <td>Gucy1b1</td>\n",
       "    </tr>\n",
       "    <tr>\n",
       "      <th>98</th>\n",
       "      <td>Gm35330</td>\n",
       "      <td>Birc3</td>\n",
       "      <td>Nos3</td>\n",
       "      <td>B830012L14Rik</td>\n",
       "      <td>Svep1</td>\n",
       "      <td>Sema4d</td>\n",
       "      <td>Cd96</td>\n",
       "      <td>Tnfrsf11a</td>\n",
       "      <td>Serpine2</td>\n",
       "      <td>Rgs6</td>\n",
       "    </tr>\n",
       "    <tr>\n",
       "      <th>99</th>\n",
       "      <td>Mypn</td>\n",
       "      <td>Bmp2k</td>\n",
       "      <td>Cd36</td>\n",
       "      <td>Tead1</td>\n",
       "      <td>Tead1</td>\n",
       "      <td>Dgkd</td>\n",
       "      <td>Ppp1r16b</td>\n",
       "      <td>Rab8b</td>\n",
       "      <td>Rem1</td>\n",
       "      <td>Syne2</td>\n",
       "    </tr>\n",
       "  </tbody>\n",
       "</table>\n",
       "<p>100 rows × 10 columns</p>\n",
       "</div>"
      ],
      "text/plain": [
       "   Cardiomyocytes Dentritic cells Endothelial cells Epicardial cells  \\\n",
       "0             Ttn          Dock10             Ptprb            Slit3   \n",
       "1            Ryr2          Tbc1d8             Cdh13            Efna5   \n",
       "2          Sorbs1           Dock2              Flt1            Ncam1   \n",
       "3           Tnnt2           Wdfy4            Pecam1            Zfpm2   \n",
       "4           Rbm20            Flt3             Ptprm              Wt1   \n",
       "..            ...             ...               ...              ...   \n",
       "95           Myl2           Ap1s3             Nova2            Magi2   \n",
       "96          Cdh13         Gm15987              Dgkh           mt-Co2   \n",
       "97           Grm1           Prex1             Dock6          Gm12840   \n",
       "98        Gm35330           Birc3              Nos3    B830012L14Rik   \n",
       "99           Mypn           Bmp2k              Cd36            Tead1   \n",
       "\n",
       "   Fibroblasts Immune-B cells Immune-T cells Macrophages Pericytes  \\\n",
       "0       Col8a1          Bank1          Skap1       Dock2      Dlc1   \n",
       "1         Gpc6       Arhgap15          Dock2         Fyb     Prkg1   \n",
       "2        Rbms3         Ripor2          Ptprc        Zeb2    Notch3   \n",
       "3        Tenm3           Aff3         Gm2682       Ptprc    Pdgfrb   \n",
       "4       Col5a2          Bach2       Arhgap15       Myo1f      Gpc6   \n",
       "..         ...            ...            ...         ...       ...   \n",
       "95     Adamts6         B3gnt5        Gm26740        St18      Meg3   \n",
       "96     Tmem45a          Stap1        Apbb1ip       Cyth4     Epas1   \n",
       "97        Ext1           Ly86          Pdcd4        Gng2     Adap2   \n",
       "98       Svep1         Sema4d           Cd96   Tnfrsf11a  Serpine2   \n",
       "99       Tead1           Dgkd       Ppp1r16b       Rab8b      Rem1   \n",
       "\n",
       "   Smooth muscle cells  \n",
       "0               Kcnab1  \n",
       "1                Prkg1  \n",
       "2               Ctnna3  \n",
       "3                Myh11  \n",
       "4                  Dmd  \n",
       "..                 ...  \n",
       "95                Tbx2  \n",
       "96              Cyp7b1  \n",
       "97             Gucy1b1  \n",
       "98                Rgs6  \n",
       "99               Syne2  \n",
       "\n",
       "[100 rows x 10 columns]"
      ]
     },
     "execution_count": 12,
     "metadata": {},
     "output_type": "execute_result"
    }
   ],
   "source": [
    "markers_df"
   ]
  },
  {
   "cell_type": "code",
   "execution_count": 13,
   "id": "ec838f02-8374-4d71-b194-0a544a73d5b4",
   "metadata": {},
   "outputs": [],
   "source": [
    "markers=list(np.unique(markers_df.melt().value.values))"
   ]
  },
  {
   "cell_type": "code",
   "execution_count": 14,
   "id": "bc347cb3-0a38-4cee-8dcc-901fa66f1d86",
   "metadata": {},
   "outputs": [
    {
     "data": {
      "text/plain": [
       "791"
      ]
     },
     "execution_count": 14,
     "metadata": {},
     "output_type": "execute_result"
    }
   ],
   "source": [
    "len(markers) #791 marker genes."
   ]
  },
  {
   "cell_type": "code",
   "execution_count": 15,
   "id": "9ee1aab0-e131-41e6-b4ed-45289def2ef6",
   "metadata": {},
   "outputs": [
    {
     "name": "stderr",
     "output_type": "stream",
     "text": [
      "INFO:root:739 training genes are saved in `uns``training_genes` of both single cell and spatial Anndatas.\n",
      "INFO:root:14817 overlapped genes are saved in `uns``overlap_genes` of both single cell and spatial Anndatas.\n",
      "INFO:root:uniform based density prior is calculated and saved in `obs``uniform_density` of the spatial Anndata.\n",
      "INFO:root:rna count based density prior is calculated and saved in `obs``rna_count_based_density` of the spatial Anndata.\n"
     ]
    }
   ],
   "source": [
    "tg.pp_adatas(adata_sc,adata_st,genes=markers) #741 training genes."
   ]
  },
  {
   "cell_type": "code",
   "execution_count": 16,
   "id": "8a3bfe0e-2e28-4c2d-8a2d-7c256b5f594b",
   "metadata": {},
   "outputs": [
    {
     "name": "stderr",
     "output_type": "stream",
     "text": [
      "INFO:root:Allocate tensors for mapping.\n",
      "INFO:root:Begin training with 739 genes and rna_count_based density_prior in cells mode...\n",
      "INFO:root:Printing scores every 100 epochs.\n"
     ]
    },
    {
     "name": "stdout",
     "output_type": "stream",
     "text": [
      "Score: 0.455, KL reg: 0.087\n",
      "Score: 0.730, KL reg: 0.001\n",
      "Score: 0.743, KL reg: 0.000\n",
      "Score: 0.745, KL reg: 0.000\n",
      "Score: 0.746, KL reg: 0.000\n",
      "Score: 0.747, KL reg: 0.000\n",
      "Score: 0.747, KL reg: 0.000\n",
      "Score: 0.747, KL reg: 0.000\n",
      "Score: 0.747, KL reg: 0.000\n",
      "Score: 0.747, KL reg: 0.000\n"
     ]
    },
    {
     "name": "stderr",
     "output_type": "stream",
     "text": [
      "INFO:root:Saving results..\n"
     ]
    }
   ],
   "source": [
    "ad_map=tg.map_cells_to_space(adata_sc,adata_st,mode=\"cells\") #https://github.com/broadinstitute/Tangram/blob/master/tangram/mapping_utils.py\n",
    "\n",
    "#This takes about an hour."
   ]
  },
  {
   "cell_type": "code",
   "execution_count": 17,
   "id": "41eb8ab0-1741-44ef-b02a-ff2fd188cfcc",
   "metadata": {},
   "outputs": [
    {
     "data": {
      "text/plain": [
       "AnnData object with n_obs × n_vars = 44573 × 1420\n",
       "    obs: 'nCount_RNA', 'nFeature_RNA', 'percent.mt', 'sample', 'celltype'\n",
       "    var: 'nCount_Spatial', 'nFeature_Spatial', 'uniform_density', 'rna_count_based_density'\n",
       "    uns: 'train_genes_df', 'training_history'"
      ]
     },
     "execution_count": 17,
     "metadata": {},
     "output_type": "execute_result"
    }
   ],
   "source": [
    "ad_map"
   ]
  },
  {
   "cell_type": "code",
   "execution_count": 18,
   "id": "edcce6d8-0666-4898-ab87-04398cb51444",
   "metadata": {},
   "outputs": [
    {
     "data": {
      "text/plain": [
       "array([[5.8516601e-08, 1.5426836e-07, 1.2818792e-08, ..., 4.6364869e-07,\n",
       "        3.7822037e-08, 1.3830071e-07],\n",
       "       [7.6312013e-08, 7.7902564e-07, 8.3796841e-08, ..., 7.7367524e-08,\n",
       "        7.1963899e-07, 4.3224259e-07],\n",
       "       [2.8321119e-07, 5.1866698e-07, 7.0473277e-07, ..., 2.6279326e-07,\n",
       "        5.3189478e-07, 5.7051035e-05],\n",
       "       ...,\n",
       "       [1.8275840e-07, 1.7329128e-07, 1.4010314e-07, ..., 7.7689279e-08,\n",
       "        9.9298653e-08, 3.6828943e-08],\n",
       "       [4.3316194e-07, 3.3896142e-06, 3.0901015e-06, ..., 1.6859352e-06,\n",
       "        1.4324729e-06, 1.7233929e-06],\n",
       "       [1.2208190e-07, 5.4340512e-07, 1.5945912e-07, ..., 1.0043542e-07,\n",
       "        1.4200047e-07, 1.1216030e-06]], dtype=float32)"
      ]
     },
     "execution_count": 18,
     "metadata": {},
     "output_type": "execute_result"
    }
   ],
   "source": [
    "ad_map.X"
   ]
  },
  {
   "cell_type": "code",
   "execution_count": 19,
   "id": "a1acc825-1fed-492d-893e-f16db252c5b4",
   "metadata": {},
   "outputs": [
    {
     "name": "stderr",
     "output_type": "stream",
     "text": [
      "INFO:root:spatial prediction dataframe is saved in `obsm` `tangram_ct_pred` of the spatial AnnData.\n"
     ]
    }
   ],
   "source": [
    "tg.project_cell_annotations(ad_map,adata_st,annotation=\"celltype\")"
   ]
  },
  {
   "cell_type": "code",
   "execution_count": 20,
   "id": "eae73c57-13b1-43cb-976e-346e90dacb39",
   "metadata": {},
   "outputs": [
    {
     "data": {
      "text/plain": [
       "AxisArrays with keys: tangram_ct_pred"
      ]
     },
     "execution_count": 20,
     "metadata": {},
     "output_type": "execute_result"
    }
   ],
   "source": [
    "adata_st.obsm"
   ]
  },
  {
   "cell_type": "code",
   "execution_count": 21,
   "id": "d0984a66-6c53-46a1-9984-cdd6623902a7",
   "metadata": {},
   "outputs": [
    {
     "data": {
      "text/html": [
       "<div>\n",
       "<style scoped>\n",
       "    .dataframe tbody tr th:only-of-type {\n",
       "        vertical-align: middle;\n",
       "    }\n",
       "\n",
       "    .dataframe tbody tr th {\n",
       "        vertical-align: top;\n",
       "    }\n",
       "\n",
       "    .dataframe thead th {\n",
       "        text-align: right;\n",
       "    }\n",
       "</style>\n",
       "<table border=\"1\" class=\"dataframe\">\n",
       "  <thead>\n",
       "    <tr style=\"text-align: right;\">\n",
       "      <th></th>\n",
       "      <th>Fibroblasts</th>\n",
       "      <th>Endothelial cells</th>\n",
       "      <th>Immune-T cells</th>\n",
       "      <th>Macrophages</th>\n",
       "      <th>Cardiomyocytes</th>\n",
       "      <th>Smooth muscle cells</th>\n",
       "      <th>Immune-B cells</th>\n",
       "      <th>Pericytes</th>\n",
       "      <th>Dentritic cells</th>\n",
       "      <th>Epicardial cells</th>\n",
       "    </tr>\n",
       "  </thead>\n",
       "  <tbody>\n",
       "    <tr>\n",
       "      <th>AACACGTTGATACCGC-1</th>\n",
       "      <td>21.575557</td>\n",
       "      <td>11.362850</td>\n",
       "      <td>0.300845</td>\n",
       "      <td>13.691135</td>\n",
       "      <td>3.622011</td>\n",
       "      <td>0.857189</td>\n",
       "      <td>0.000938</td>\n",
       "      <td>0.431049</td>\n",
       "      <td>0.000196</td>\n",
       "      <td>0.000424</td>\n",
       "    </tr>\n",
       "    <tr>\n",
       "      <th>AACAGGCCATTGTCAC-1</th>\n",
       "      <td>21.724646</td>\n",
       "      <td>10.175591</td>\n",
       "      <td>0.582837</td>\n",
       "      <td>8.643933</td>\n",
       "      <td>2.236152</td>\n",
       "      <td>0.251013</td>\n",
       "      <td>0.029757</td>\n",
       "      <td>3.464691</td>\n",
       "      <td>0.119388</td>\n",
       "      <td>1.934554</td>\n",
       "    </tr>\n",
       "    <tr>\n",
       "      <th>AACATACTAGCCGAAG-1</th>\n",
       "      <td>7.819905</td>\n",
       "      <td>6.446111</td>\n",
       "      <td>0.206656</td>\n",
       "      <td>7.797962</td>\n",
       "      <td>1.741139</td>\n",
       "      <td>0.280650</td>\n",
       "      <td>0.233445</td>\n",
       "      <td>1.558793</td>\n",
       "      <td>0.045873</td>\n",
       "      <td>0.000380</td>\n",
       "    </tr>\n",
       "    <tr>\n",
       "      <th>AACATACTCCACAGTT-1</th>\n",
       "      <td>17.184962</td>\n",
       "      <td>8.163787</td>\n",
       "      <td>0.143732</td>\n",
       "      <td>1.723932</td>\n",
       "      <td>2.376367</td>\n",
       "      <td>0.000296</td>\n",
       "      <td>0.239935</td>\n",
       "      <td>4.901139</td>\n",
       "      <td>0.149791</td>\n",
       "      <td>0.000401</td>\n",
       "    </tr>\n",
       "    <tr>\n",
       "      <th>AACATATGCACTTCTA-1</th>\n",
       "      <td>3.525843</td>\n",
       "      <td>0.243817</td>\n",
       "      <td>0.126217</td>\n",
       "      <td>2.299476</td>\n",
       "      <td>0.000306</td>\n",
       "      <td>0.056645</td>\n",
       "      <td>0.000670</td>\n",
       "      <td>0.213007</td>\n",
       "      <td>0.232431</td>\n",
       "      <td>2.657453</td>\n",
       "    </tr>\n",
       "    <tr>\n",
       "      <th>...</th>\n",
       "      <td>...</td>\n",
       "      <td>...</td>\n",
       "      <td>...</td>\n",
       "      <td>...</td>\n",
       "      <td>...</td>\n",
       "      <td>...</td>\n",
       "      <td>...</td>\n",
       "      <td>...</td>\n",
       "      <td>...</td>\n",
       "      <td>...</td>\n",
       "    </tr>\n",
       "    <tr>\n",
       "      <th>TGTTCGTGGCGTCGTG-1</th>\n",
       "      <td>10.684135</td>\n",
       "      <td>5.501500</td>\n",
       "      <td>0.340479</td>\n",
       "      <td>6.118828</td>\n",
       "      <td>1.156107</td>\n",
       "      <td>0.135641</td>\n",
       "      <td>0.226921</td>\n",
       "      <td>0.006188</td>\n",
       "      <td>0.000345</td>\n",
       "      <td>2.014797</td>\n",
       "    </tr>\n",
       "    <tr>\n",
       "      <th>TGTTGCCAGTCGCCTG-1</th>\n",
       "      <td>11.547256</td>\n",
       "      <td>3.733791</td>\n",
       "      <td>0.299955</td>\n",
       "      <td>2.681159</td>\n",
       "      <td>1.652480</td>\n",
       "      <td>0.000189</td>\n",
       "      <td>0.181930</td>\n",
       "      <td>3.913997</td>\n",
       "      <td>0.185239</td>\n",
       "      <td>1.648569</td>\n",
       "    </tr>\n",
       "    <tr>\n",
       "      <th>TGTTGGCCTGTAGCGG-1</th>\n",
       "      <td>11.456638</td>\n",
       "      <td>3.194937</td>\n",
       "      <td>0.000749</td>\n",
       "      <td>2.350287</td>\n",
       "      <td>0.000280</td>\n",
       "      <td>0.000192</td>\n",
       "      <td>0.000536</td>\n",
       "      <td>0.298550</td>\n",
       "      <td>0.000318</td>\n",
       "      <td>1.624168</td>\n",
       "    </tr>\n",
       "    <tr>\n",
       "      <th>TGTTGGTGCGGAATCA-1</th>\n",
       "      <td>16.751082</td>\n",
       "      <td>11.639593</td>\n",
       "      <td>0.181805</td>\n",
       "      <td>12.398883</td>\n",
       "      <td>3.065862</td>\n",
       "      <td>0.170423</td>\n",
       "      <td>0.243697</td>\n",
       "      <td>11.750787</td>\n",
       "      <td>0.446098</td>\n",
       "      <td>0.427050</td>\n",
       "    </tr>\n",
       "    <tr>\n",
       "      <th>TGTTGGTGGACTCAGG-1</th>\n",
       "      <td>6.459329</td>\n",
       "      <td>6.384960</td>\n",
       "      <td>0.678672</td>\n",
       "      <td>3.863083</td>\n",
       "      <td>1.224780</td>\n",
       "      <td>0.001313</td>\n",
       "      <td>0.078769</td>\n",
       "      <td>0.611294</td>\n",
       "      <td>0.629544</td>\n",
       "      <td>0.529454</td>\n",
       "    </tr>\n",
       "  </tbody>\n",
       "</table>\n",
       "<p>1420 rows × 10 columns</p>\n",
       "</div>"
      ],
      "text/plain": [
       "                    Fibroblasts  Endothelial cells  Immune-T cells  \\\n",
       "AACACGTTGATACCGC-1    21.575557          11.362850        0.300845   \n",
       "AACAGGCCATTGTCAC-1    21.724646          10.175591        0.582837   \n",
       "AACATACTAGCCGAAG-1     7.819905           6.446111        0.206656   \n",
       "AACATACTCCACAGTT-1    17.184962           8.163787        0.143732   \n",
       "AACATATGCACTTCTA-1     3.525843           0.243817        0.126217   \n",
       "...                         ...                ...             ...   \n",
       "TGTTCGTGGCGTCGTG-1    10.684135           5.501500        0.340479   \n",
       "TGTTGCCAGTCGCCTG-1    11.547256           3.733791        0.299955   \n",
       "TGTTGGCCTGTAGCGG-1    11.456638           3.194937        0.000749   \n",
       "TGTTGGTGCGGAATCA-1    16.751082          11.639593        0.181805   \n",
       "TGTTGGTGGACTCAGG-1     6.459329           6.384960        0.678672   \n",
       "\n",
       "                    Macrophages  Cardiomyocytes  Smooth muscle cells  \\\n",
       "AACACGTTGATACCGC-1    13.691135        3.622011             0.857189   \n",
       "AACAGGCCATTGTCAC-1     8.643933        2.236152             0.251013   \n",
       "AACATACTAGCCGAAG-1     7.797962        1.741139             0.280650   \n",
       "AACATACTCCACAGTT-1     1.723932        2.376367             0.000296   \n",
       "AACATATGCACTTCTA-1     2.299476        0.000306             0.056645   \n",
       "...                         ...             ...                  ...   \n",
       "TGTTCGTGGCGTCGTG-1     6.118828        1.156107             0.135641   \n",
       "TGTTGCCAGTCGCCTG-1     2.681159        1.652480             0.000189   \n",
       "TGTTGGCCTGTAGCGG-1     2.350287        0.000280             0.000192   \n",
       "TGTTGGTGCGGAATCA-1    12.398883        3.065862             0.170423   \n",
       "TGTTGGTGGACTCAGG-1     3.863083        1.224780             0.001313   \n",
       "\n",
       "                    Immune-B cells  Pericytes  Dentritic cells  \\\n",
       "AACACGTTGATACCGC-1        0.000938   0.431049         0.000196   \n",
       "AACAGGCCATTGTCAC-1        0.029757   3.464691         0.119388   \n",
       "AACATACTAGCCGAAG-1        0.233445   1.558793         0.045873   \n",
       "AACATACTCCACAGTT-1        0.239935   4.901139         0.149791   \n",
       "AACATATGCACTTCTA-1        0.000670   0.213007         0.232431   \n",
       "...                            ...        ...              ...   \n",
       "TGTTCGTGGCGTCGTG-1        0.226921   0.006188         0.000345   \n",
       "TGTTGCCAGTCGCCTG-1        0.181930   3.913997         0.185239   \n",
       "TGTTGGCCTGTAGCGG-1        0.000536   0.298550         0.000318   \n",
       "TGTTGGTGCGGAATCA-1        0.243697  11.750787         0.446098   \n",
       "TGTTGGTGGACTCAGG-1        0.078769   0.611294         0.629544   \n",
       "\n",
       "                    Epicardial cells  \n",
       "AACACGTTGATACCGC-1          0.000424  \n",
       "AACAGGCCATTGTCAC-1          1.934554  \n",
       "AACATACTAGCCGAAG-1          0.000380  \n",
       "AACATACTCCACAGTT-1          0.000401  \n",
       "AACATATGCACTTCTA-1          2.657453  \n",
       "...                              ...  \n",
       "TGTTCGTGGCGTCGTG-1          2.014797  \n",
       "TGTTGCCAGTCGCCTG-1          1.648569  \n",
       "TGTTGGCCTGTAGCGG-1          1.624168  \n",
       "TGTTGGTGCGGAATCA-1          0.427050  \n",
       "TGTTGGTGGACTCAGG-1          0.529454  \n",
       "\n",
       "[1420 rows x 10 columns]"
      ]
     },
     "execution_count": 21,
     "metadata": {},
     "output_type": "execute_result"
    }
   ],
   "source": [
    "adata_st.obsm[\"tangram_ct_pred\"]"
   ]
  },
  {
   "cell_type": "code",
   "execution_count": 22,
   "id": "1712e1c8-4098-4509-a8ca-71c3acc33d1b",
   "metadata": {},
   "outputs": [
    {
     "data": {
      "text/plain": [
       "AACACGTTGATACCGC-1    51.842193\n",
       "AACAGGCCATTGTCAC-1    49.162562\n",
       "AACATACTAGCCGAAG-1    26.130913\n",
       "AACATACTCCACAGTT-1    34.884341\n",
       "AACATATGCACTTCTA-1     9.355864\n",
       "                        ...    \n",
       "TGTTCGTGGCGTCGTG-1    26.184941\n",
       "TGTTGCCAGTCGCCTG-1    25.844566\n",
       "TGTTGGCCTGTAGCGG-1    18.926656\n",
       "TGTTGGTGCGGAATCA-1    57.075282\n",
       "TGTTGGTGGACTCAGG-1    20.461198\n",
       "Length: 1420, dtype: float64"
      ]
     },
     "execution_count": 22,
     "metadata": {},
     "output_type": "execute_result"
    }
   ],
   "source": [
    "np.sum(adata_st.obsm[\"tangram_ct_pred\"],axis=1) #Row sums."
   ]
  },
  {
   "cell_type": "code",
   "execution_count": 23,
   "id": "af13212f-c249-4b7b-b830-83fd2f068d54",
   "metadata": {},
   "outputs": [
    {
     "data": {
      "text/plain": [
       "Fibroblasts            18689.001289\n",
       "Endothelial cells       8759.000366\n",
       "Immune-T cells           430.000011\n",
       "Macrophages            10181.000528\n",
       "Cardiomyocytes          1931.000007\n",
       "Smooth muscle cells      355.000005\n",
       "Immune-B cells           282.000007\n",
       "Pericytes               2703.000052\n",
       "Dentritic cells          263.000003\n",
       "Epicardial cells         980.000015\n",
       "dtype: float64"
      ]
     },
     "execution_count": 23,
     "metadata": {},
     "output_type": "execute_result"
    }
   ],
   "source": [
    "np.sum(adata_st.obsm[\"tangram_ct_pred\"]) #Column sums."
   ]
  },
  {
   "cell_type": "code",
   "execution_count": 24,
   "id": "e3aa4502-c061-45fd-9a8d-577a6299fd4f",
   "metadata": {},
   "outputs": [
    {
     "data": {
      "text/plain": [
       "np.float64(44573.00228174399)"
      ]
     },
     "execution_count": 24,
     "metadata": {},
     "output_type": "execute_result"
    }
   ],
   "source": [
    "np.sum(np.sum(adata_st.obsm[\"tangram_ct_pred\"])) #Total sum. 44573."
   ]
  },
  {
   "cell_type": "markdown",
   "id": "1aa946ca-9373-4d98-8a4b-84ffa3b6df24",
   "metadata": {},
   "source": [
    "Tangram plotting function doesn't work."
   ]
  },
  {
   "cell_type": "code",
   "execution_count": 25,
   "id": "46d28705-cd7e-4360-a943-e684bce2ca03",
   "metadata": {},
   "outputs": [],
   "source": [
    "adata_st.obsm[\"tangram_ct_pred\"].to_csv(f\"/home/hezhou/_Projects/25.02.27_Jielin_Senescence/25.04.07_spatialCellTypes/1.4_resultTangram/{spatialSample}.csv\")"
   ]
  },
  {
   "cell_type": "code",
   "execution_count": null,
   "id": "14f0ffc5-af58-4d5d-a99e-49e45bd4ed65",
   "metadata": {},
   "outputs": [],
   "source": []
  }
 ],
 "metadata": {
  "kernelspec": {
   "display_name": "Tangram-env-kernel",
   "language": "python",
   "name": "tangram-env-kernel"
  },
  "language_info": {
   "codemirror_mode": {
    "name": "ipython",
    "version": 3
   },
   "file_extension": ".py",
   "mimetype": "text/x-python",
   "name": "python",
   "nbconvert_exporter": "python",
   "pygments_lexer": "ipython3",
   "version": "3.13.2"
  }
 },
 "nbformat": 4,
 "nbformat_minor": 5
}
