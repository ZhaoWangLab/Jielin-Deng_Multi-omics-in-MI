{
 "cells": [
  {
   "cell_type": "code",
   "execution_count": 1,
   "id": "2c1b7e0b-3c1d-4c87-83ee-1afcd7ab2d8d",
   "metadata": {},
   "outputs": [],
   "source": [
    "spatialSample=\"p16\" #p16 or spider. Key."
   ]
  },
  {
   "cell_type": "code",
   "execution_count": 2,
   "id": "b466c771-9f9c-4d0a-913b-9284281550cb",
   "metadata": {},
   "outputs": [],
   "source": [
    "import scanpy as sc\n",
    "import numpy as np\n",
    "import pandas as pd\n",
    "import tangram as tg\n",
    "\n",
    "#This takes a few minutes."
   ]
  },
  {
   "cell_type": "code",
   "execution_count": 3,
   "id": "88a9031d-d803-4316-9916-be05160a5cb5",
   "metadata": {},
   "outputs": [],
   "source": [
    "adata_st=sc.read_h5ad(f\"/home/hezhou/_Projects/25.02.27_Jielin_Senescence/25.04.07_prepareData/_Data/dataSpatial_{spatialSample}.h5ad\")\n",
    "adata_sc=sc.read_h5ad(\"/home/hezhou/_Projects/25.02.27_Jielin_Senescence/25.04.07_prepareData/_Data/dataSnRNASeq.h5ad\")\n",
    "\n",
    "#This takes a moment."
   ]
  },
  {
   "cell_type": "code",
   "execution_count": 4,
   "id": "de6f8171-0562-4592-a962-e6029adc70da",
   "metadata": {},
   "outputs": [
    {
     "data": {
      "text/plain": [
       "(1808, 19465)"
      ]
     },
     "execution_count": 4,
     "metadata": {},
     "output_type": "execute_result"
    }
   ],
   "source": [
    "adata_st.X.shape #Cell by gene."
   ]
  },
  {
   "cell_type": "code",
   "execution_count": 5,
   "id": "57f5cb88-86c9-497e-8686-8ff98a0ab6dd",
   "metadata": {},
   "outputs": [
    {
     "data": {
      "text/plain": [
       "(44573, 32285)"
      ]
     },
     "execution_count": 5,
     "metadata": {},
     "output_type": "execute_result"
    }
   ],
   "source": [
    "adata_sc.X.shape #Cell by gene."
   ]
  },
  {
   "cell_type": "code",
   "execution_count": 6,
   "id": "41448c11-e55a-4cb2-a636-c6c2b636fb84",
   "metadata": {},
   "outputs": [],
   "source": [
    "# sc.tl.rank_genes_groups(adata_sc,groupby=\"celltype\",use_raw=False)\n",
    "\n",
    "#WARNING: It seems you use rank_genes_groups on the raw count data. Please logarithmize your data before calling rank_genes_groups."
   ]
  },
  {
   "cell_type": "code",
   "execution_count": 7,
   "id": "527be2a8-b1ef-4584-8401-459c36fa18de",
   "metadata": {},
   "outputs": [],
   "source": [
    "adata_sc2=adata_sc.copy() #Create unlinked copy."
   ]
  },
  {
   "cell_type": "code",
   "execution_count": 8,
   "id": "21372499-3c87-4d55-8b75-006297fe1e0d",
   "metadata": {},
   "outputs": [],
   "source": [
    "sc.pp.log1p(adata_sc2)"
   ]
  },
  {
   "cell_type": "code",
   "execution_count": 9,
   "id": "f9926e4b-961f-4460-bc82-fb91df4fad15",
   "metadata": {},
   "outputs": [],
   "source": [
    "# print(adata_sc2.X)"
   ]
  },
  {
   "cell_type": "code",
   "execution_count": 10,
   "id": "651cb88b-f3ac-4adb-94a8-92be5c590604",
   "metadata": {},
   "outputs": [],
   "source": [
    "sc.tl.rank_genes_groups(adata_sc2,groupby=\"celltype\",use_raw=False)\n",
    "\n",
    "#This takes a minute or so."
   ]
  },
  {
   "cell_type": "code",
   "execution_count": 11,
   "id": "552ce923-1700-4019-9c3b-2efff4b93db9",
   "metadata": {},
   "outputs": [],
   "source": [
    "markers_df=pd.DataFrame(adata_sc2.uns[\"rank_genes_groups\"][\"names\"]).iloc[0:100,:] #Take top 100 marker genes per cell type."
   ]
  },
  {
   "cell_type": "code",
   "execution_count": 12,
   "id": "ebf32873-0116-4896-9086-55674a79e65c",
   "metadata": {},
   "outputs": [
    {
     "data": {
      "text/html": [
       "<div>\n",
       "<style scoped>\n",
       "    .dataframe tbody tr th:only-of-type {\n",
       "        vertical-align: middle;\n",
       "    }\n",
       "\n",
       "    .dataframe tbody tr th {\n",
       "        vertical-align: top;\n",
       "    }\n",
       "\n",
       "    .dataframe thead th {\n",
       "        text-align: right;\n",
       "    }\n",
       "</style>\n",
       "<table border=\"1\" class=\"dataframe\">\n",
       "  <thead>\n",
       "    <tr style=\"text-align: right;\">\n",
       "      <th></th>\n",
       "      <th>Cardiomyocytes</th>\n",
       "      <th>Dentritic cells</th>\n",
       "      <th>Endothelial cells</th>\n",
       "      <th>Epicardial cells</th>\n",
       "      <th>Fibroblasts</th>\n",
       "      <th>Immune-B cells</th>\n",
       "      <th>Immune-T cells</th>\n",
       "      <th>Macrophages</th>\n",
       "      <th>Pericytes</th>\n",
       "      <th>Smooth muscle cells</th>\n",
       "    </tr>\n",
       "  </thead>\n",
       "  <tbody>\n",
       "    <tr>\n",
       "      <th>0</th>\n",
       "      <td>Ttn</td>\n",
       "      <td>Dock10</td>\n",
       "      <td>Ptprb</td>\n",
       "      <td>Slit3</td>\n",
       "      <td>Col8a1</td>\n",
       "      <td>Bank1</td>\n",
       "      <td>Skap1</td>\n",
       "      <td>Dock2</td>\n",
       "      <td>Dlc1</td>\n",
       "      <td>Kcnab1</td>\n",
       "    </tr>\n",
       "    <tr>\n",
       "      <th>1</th>\n",
       "      <td>Ryr2</td>\n",
       "      <td>Tbc1d8</td>\n",
       "      <td>Cdh13</td>\n",
       "      <td>Efna5</td>\n",
       "      <td>Gpc6</td>\n",
       "      <td>Arhgap15</td>\n",
       "      <td>Dock2</td>\n",
       "      <td>Fyb</td>\n",
       "      <td>Prkg1</td>\n",
       "      <td>Prkg1</td>\n",
       "    </tr>\n",
       "    <tr>\n",
       "      <th>2</th>\n",
       "      <td>Sorbs1</td>\n",
       "      <td>Dock2</td>\n",
       "      <td>Flt1</td>\n",
       "      <td>Ncam1</td>\n",
       "      <td>Rbms3</td>\n",
       "      <td>Ripor2</td>\n",
       "      <td>Ptprc</td>\n",
       "      <td>Zeb2</td>\n",
       "      <td>Notch3</td>\n",
       "      <td>Ctnna3</td>\n",
       "    </tr>\n",
       "    <tr>\n",
       "      <th>3</th>\n",
       "      <td>Tnnt2</td>\n",
       "      <td>Wdfy4</td>\n",
       "      <td>Pecam1</td>\n",
       "      <td>Zfpm2</td>\n",
       "      <td>Tenm3</td>\n",
       "      <td>Aff3</td>\n",
       "      <td>Gm2682</td>\n",
       "      <td>Ptprc</td>\n",
       "      <td>Pdgfrb</td>\n",
       "      <td>Myh11</td>\n",
       "    </tr>\n",
       "    <tr>\n",
       "      <th>4</th>\n",
       "      <td>Rbm20</td>\n",
       "      <td>Flt3</td>\n",
       "      <td>Ptprm</td>\n",
       "      <td>Wt1</td>\n",
       "      <td>Col5a2</td>\n",
       "      <td>Bach2</td>\n",
       "      <td>Arhgap15</td>\n",
       "      <td>Myo1f</td>\n",
       "      <td>Gpc6</td>\n",
       "      <td>Dmd</td>\n",
       "    </tr>\n",
       "    <tr>\n",
       "      <th>...</th>\n",
       "      <td>...</td>\n",
       "      <td>...</td>\n",
       "      <td>...</td>\n",
       "      <td>...</td>\n",
       "      <td>...</td>\n",
       "      <td>...</td>\n",
       "      <td>...</td>\n",
       "      <td>...</td>\n",
       "      <td>...</td>\n",
       "      <td>...</td>\n",
       "    </tr>\n",
       "    <tr>\n",
       "      <th>95</th>\n",
       "      <td>Myl2</td>\n",
       "      <td>Ap1s3</td>\n",
       "      <td>Nova2</td>\n",
       "      <td>Magi2</td>\n",
       "      <td>Adamts6</td>\n",
       "      <td>B3gnt5</td>\n",
       "      <td>Gm26740</td>\n",
       "      <td>St18</td>\n",
       "      <td>Meg3</td>\n",
       "      <td>Tbx2</td>\n",
       "    </tr>\n",
       "    <tr>\n",
       "      <th>96</th>\n",
       "      <td>Cdh13</td>\n",
       "      <td>Gm15987</td>\n",
       "      <td>Dgkh</td>\n",
       "      <td>mt-Co2</td>\n",
       "      <td>Tmem45a</td>\n",
       "      <td>Stap1</td>\n",
       "      <td>Apbb1ip</td>\n",
       "      <td>Cyth4</td>\n",
       "      <td>Epas1</td>\n",
       "      <td>Cyp7b1</td>\n",
       "    </tr>\n",
       "    <tr>\n",
       "      <th>97</th>\n",
       "      <td>Grm1</td>\n",
       "      <td>Prex1</td>\n",
       "      <td>Dock6</td>\n",
       "      <td>Gm12840</td>\n",
       "      <td>Ext1</td>\n",
       "      <td>Ly86</td>\n",
       "      <td>Pdcd4</td>\n",
       "      <td>Gng2</td>\n",
       "      <td>Adap2</td>\n",
       "      <td>Gucy1b1</td>\n",
       "    </tr>\n",
       "    <tr>\n",
       "      <th>98</th>\n",
       "      <td>Gm35330</td>\n",
       "      <td>Birc3</td>\n",
       "      <td>Nos3</td>\n",
       "      <td>B830012L14Rik</td>\n",
       "      <td>Svep1</td>\n",
       "      <td>Sema4d</td>\n",
       "      <td>Cd96</td>\n",
       "      <td>Tnfrsf11a</td>\n",
       "      <td>Serpine2</td>\n",
       "      <td>Rgs6</td>\n",
       "    </tr>\n",
       "    <tr>\n",
       "      <th>99</th>\n",
       "      <td>Mypn</td>\n",
       "      <td>Bmp2k</td>\n",
       "      <td>Cd36</td>\n",
       "      <td>Tead1</td>\n",
       "      <td>Tead1</td>\n",
       "      <td>Dgkd</td>\n",
       "      <td>Ppp1r16b</td>\n",
       "      <td>Rab8b</td>\n",
       "      <td>Rem1</td>\n",
       "      <td>Syne2</td>\n",
       "    </tr>\n",
       "  </tbody>\n",
       "</table>\n",
       "<p>100 rows × 10 columns</p>\n",
       "</div>"
      ],
      "text/plain": [
       "   Cardiomyocytes Dentritic cells Endothelial cells Epicardial cells  \\\n",
       "0             Ttn          Dock10             Ptprb            Slit3   \n",
       "1            Ryr2          Tbc1d8             Cdh13            Efna5   \n",
       "2          Sorbs1           Dock2              Flt1            Ncam1   \n",
       "3           Tnnt2           Wdfy4            Pecam1            Zfpm2   \n",
       "4           Rbm20            Flt3             Ptprm              Wt1   \n",
       "..            ...             ...               ...              ...   \n",
       "95           Myl2           Ap1s3             Nova2            Magi2   \n",
       "96          Cdh13         Gm15987              Dgkh           mt-Co2   \n",
       "97           Grm1           Prex1             Dock6          Gm12840   \n",
       "98        Gm35330           Birc3              Nos3    B830012L14Rik   \n",
       "99           Mypn           Bmp2k              Cd36            Tead1   \n",
       "\n",
       "   Fibroblasts Immune-B cells Immune-T cells Macrophages Pericytes  \\\n",
       "0       Col8a1          Bank1          Skap1       Dock2      Dlc1   \n",
       "1         Gpc6       Arhgap15          Dock2         Fyb     Prkg1   \n",
       "2        Rbms3         Ripor2          Ptprc        Zeb2    Notch3   \n",
       "3        Tenm3           Aff3         Gm2682       Ptprc    Pdgfrb   \n",
       "4       Col5a2          Bach2       Arhgap15       Myo1f      Gpc6   \n",
       "..         ...            ...            ...         ...       ...   \n",
       "95     Adamts6         B3gnt5        Gm26740        St18      Meg3   \n",
       "96     Tmem45a          Stap1        Apbb1ip       Cyth4     Epas1   \n",
       "97        Ext1           Ly86          Pdcd4        Gng2     Adap2   \n",
       "98       Svep1         Sema4d           Cd96   Tnfrsf11a  Serpine2   \n",
       "99       Tead1           Dgkd       Ppp1r16b       Rab8b      Rem1   \n",
       "\n",
       "   Smooth muscle cells  \n",
       "0               Kcnab1  \n",
       "1                Prkg1  \n",
       "2               Ctnna3  \n",
       "3                Myh11  \n",
       "4                  Dmd  \n",
       "..                 ...  \n",
       "95                Tbx2  \n",
       "96              Cyp7b1  \n",
       "97             Gucy1b1  \n",
       "98                Rgs6  \n",
       "99               Syne2  \n",
       "\n",
       "[100 rows x 10 columns]"
      ]
     },
     "execution_count": 12,
     "metadata": {},
     "output_type": "execute_result"
    }
   ],
   "source": [
    "markers_df"
   ]
  },
  {
   "cell_type": "code",
   "execution_count": 13,
   "id": "ec838f02-8374-4d71-b194-0a544a73d5b4",
   "metadata": {},
   "outputs": [],
   "source": [
    "markers=list(np.unique(markers_df.melt().value.values))"
   ]
  },
  {
   "cell_type": "code",
   "execution_count": 14,
   "id": "bc347cb3-0a38-4cee-8dcc-901fa66f1d86",
   "metadata": {},
   "outputs": [
    {
     "data": {
      "text/plain": [
       "791"
      ]
     },
     "execution_count": 14,
     "metadata": {},
     "output_type": "execute_result"
    }
   ],
   "source": [
    "len(markers) #791 marker genes."
   ]
  },
  {
   "cell_type": "code",
   "execution_count": 15,
   "id": "9ee1aab0-e131-41e6-b4ed-45289def2ef6",
   "metadata": {},
   "outputs": [
    {
     "name": "stderr",
     "output_type": "stream",
     "text": [
      "INFO:root:741 training genes are saved in `uns``training_genes` of both single cell and spatial Anndatas.\n",
      "INFO:root:14660 overlapped genes are saved in `uns``overlap_genes` of both single cell and spatial Anndatas.\n",
      "INFO:root:uniform based density prior is calculated and saved in `obs``uniform_density` of the spatial Anndata.\n",
      "INFO:root:rna count based density prior is calculated and saved in `obs``rna_count_based_density` of the spatial Anndata.\n"
     ]
    }
   ],
   "source": [
    "tg.pp_adatas(adata_sc,adata_st,genes=markers) #741 training genes."
   ]
  },
  {
   "cell_type": "code",
   "execution_count": 16,
   "id": "8a3bfe0e-2e28-4c2d-8a2d-7c256b5f594b",
   "metadata": {},
   "outputs": [
    {
     "name": "stderr",
     "output_type": "stream",
     "text": [
      "INFO:root:Allocate tensors for mapping.\n",
      "INFO:root:Begin training with 741 genes and rna_count_based density_prior in cells mode...\n",
      "INFO:root:Printing scores every 100 epochs.\n"
     ]
    },
    {
     "name": "stdout",
     "output_type": "stream",
     "text": [
      "Score: 0.351, KL reg: 0.129\n",
      "Score: 0.668, KL reg: 0.001\n",
      "Score: 0.687, KL reg: 0.001\n",
      "Score: 0.689, KL reg: 0.001\n",
      "Score: 0.690, KL reg: 0.001\n",
      "Score: 0.690, KL reg: 0.001\n",
      "Score: 0.691, KL reg: 0.001\n",
      "Score: 0.691, KL reg: 0.001\n",
      "Score: 0.691, KL reg: 0.001\n",
      "Score: 0.691, KL reg: 0.001\n"
     ]
    },
    {
     "name": "stderr",
     "output_type": "stream",
     "text": [
      "INFO:root:Saving results..\n"
     ]
    }
   ],
   "source": [
    "ad_map=tg.map_cells_to_space(adata_sc,adata_st,mode=\"cells\") #https://github.com/broadinstitute/Tangram/blob/master/tangram/mapping_utils.py\n",
    "\n",
    "#This takes about an hour."
   ]
  },
  {
   "cell_type": "code",
   "execution_count": 17,
   "id": "41eb8ab0-1741-44ef-b02a-ff2fd188cfcc",
   "metadata": {},
   "outputs": [
    {
     "data": {
      "text/plain": [
       "AnnData object with n_obs × n_vars = 44573 × 1808\n",
       "    obs: 'nCount_RNA', 'nFeature_RNA', 'percent.mt', 'sample', 'celltype'\n",
       "    var: 'nCount_Spatial', 'nFeature_Spatial', 'uniform_density', 'rna_count_based_density'\n",
       "    uns: 'train_genes_df', 'training_history'"
      ]
     },
     "execution_count": 17,
     "metadata": {},
     "output_type": "execute_result"
    }
   ],
   "source": [
    "ad_map"
   ]
  },
  {
   "cell_type": "code",
   "execution_count": 18,
   "id": "edcce6d8-0666-4898-ab87-04398cb51444",
   "metadata": {},
   "outputs": [
    {
     "data": {
      "text/plain": [
       "array([[6.9648188e-08, 7.7271494e-08, 1.9294797e-07, ..., 1.6802518e-07,\n",
       "        9.8259228e-08, 1.8212037e-07],\n",
       "       [4.5804708e-07, 1.8967145e-07, 7.6436031e-08, ..., 2.4808224e-07,\n",
       "        1.3044571e-07, 4.4963226e-08],\n",
       "       [6.7758810e-06, 4.9859068e-06, 4.3690757e-06, ..., 3.8332209e-06,\n",
       "        3.6674967e-06, 6.5631893e-06],\n",
       "       ...,\n",
       "       [3.6604635e-07, 6.0098989e-07, 1.9199965e-07, ..., 8.4058570e-07,\n",
       "        2.5879372e-06, 1.3976539e-06],\n",
       "       [5.0898740e-07, 2.6990460e-07, 3.6171068e-07, ..., 3.4411539e-07,\n",
       "        6.2612844e-07, 3.4359761e-07],\n",
       "       [6.3302593e-08, 6.5401530e-08, 1.8500532e-07, ..., 1.6381624e-07,\n",
       "        1.8400192e-08, 7.3830016e-08]], dtype=float32)"
      ]
     },
     "execution_count": 18,
     "metadata": {},
     "output_type": "execute_result"
    }
   ],
   "source": [
    "ad_map.X"
   ]
  },
  {
   "cell_type": "code",
   "execution_count": 19,
   "id": "a1acc825-1fed-492d-893e-f16db252c5b4",
   "metadata": {},
   "outputs": [
    {
     "name": "stderr",
     "output_type": "stream",
     "text": [
      "INFO:root:spatial prediction dataframe is saved in `obsm` `tangram_ct_pred` of the spatial AnnData.\n"
     ]
    }
   ],
   "source": [
    "tg.project_cell_annotations(ad_map,adata_st,annotation=\"celltype\")"
   ]
  },
  {
   "cell_type": "code",
   "execution_count": 20,
   "id": "eae73c57-13b1-43cb-976e-346e90dacb39",
   "metadata": {},
   "outputs": [
    {
     "data": {
      "text/plain": [
       "AxisArrays with keys: tangram_ct_pred"
      ]
     },
     "execution_count": 20,
     "metadata": {},
     "output_type": "execute_result"
    }
   ],
   "source": [
    "adata_st.obsm"
   ]
  },
  {
   "cell_type": "code",
   "execution_count": 21,
   "id": "d0984a66-6c53-46a1-9984-cdd6623902a7",
   "metadata": {},
   "outputs": [
    {
     "data": {
      "text/html": [
       "<div>\n",
       "<style scoped>\n",
       "    .dataframe tbody tr th:only-of-type {\n",
       "        vertical-align: middle;\n",
       "    }\n",
       "\n",
       "    .dataframe tbody tr th {\n",
       "        vertical-align: top;\n",
       "    }\n",
       "\n",
       "    .dataframe thead th {\n",
       "        text-align: right;\n",
       "    }\n",
       "</style>\n",
       "<table border=\"1\" class=\"dataframe\">\n",
       "  <thead>\n",
       "    <tr style=\"text-align: right;\">\n",
       "      <th></th>\n",
       "      <th>Fibroblasts</th>\n",
       "      <th>Endothelial cells</th>\n",
       "      <th>Immune-T cells</th>\n",
       "      <th>Macrophages</th>\n",
       "      <th>Cardiomyocytes</th>\n",
       "      <th>Smooth muscle cells</th>\n",
       "      <th>Immune-B cells</th>\n",
       "      <th>Pericytes</th>\n",
       "      <th>Dentritic cells</th>\n",
       "      <th>Epicardial cells</th>\n",
       "    </tr>\n",
       "  </thead>\n",
       "  <tbody>\n",
       "    <tr>\n",
       "      <th>AACACGTTGATACCGC-1</th>\n",
       "      <td>9.619183</td>\n",
       "      <td>4.209319</td>\n",
       "      <td>0.000574</td>\n",
       "      <td>5.481513</td>\n",
       "      <td>1.799357</td>\n",
       "      <td>0.994209</td>\n",
       "      <td>0.122888</td>\n",
       "      <td>1.849255</td>\n",
       "      <td>0.133543</td>\n",
       "      <td>0.302334</td>\n",
       "    </tr>\n",
       "    <tr>\n",
       "      <th>AACAGGCCATTGTCAC-1</th>\n",
       "      <td>8.687117</td>\n",
       "      <td>7.135786</td>\n",
       "      <td>0.000425</td>\n",
       "      <td>4.224581</td>\n",
       "      <td>1.625298</td>\n",
       "      <td>0.421930</td>\n",
       "      <td>0.734737</td>\n",
       "      <td>0.550454</td>\n",
       "      <td>0.127161</td>\n",
       "      <td>1.055588</td>\n",
       "    </tr>\n",
       "    <tr>\n",
       "      <th>AACAGTATCCGCCTGG-1</th>\n",
       "      <td>13.345734</td>\n",
       "      <td>15.248071</td>\n",
       "      <td>0.138977</td>\n",
       "      <td>11.379629</td>\n",
       "      <td>2.532132</td>\n",
       "      <td>0.659650</td>\n",
       "      <td>0.126224</td>\n",
       "      <td>2.343225</td>\n",
       "      <td>1.931582</td>\n",
       "      <td>0.088741</td>\n",
       "    </tr>\n",
       "    <tr>\n",
       "      <th>AACATACTCCACAGTT-1</th>\n",
       "      <td>10.670270</td>\n",
       "      <td>11.436491</td>\n",
       "      <td>0.000540</td>\n",
       "      <td>6.080512</td>\n",
       "      <td>2.687811</td>\n",
       "      <td>0.000179</td>\n",
       "      <td>0.000472</td>\n",
       "      <td>3.408780</td>\n",
       "      <td>0.149829</td>\n",
       "      <td>1.851625</td>\n",
       "    </tr>\n",
       "    <tr>\n",
       "      <th>AACATAGGTTGGCACC-1</th>\n",
       "      <td>4.944032</td>\n",
       "      <td>9.074845</td>\n",
       "      <td>0.022946</td>\n",
       "      <td>2.747240</td>\n",
       "      <td>1.042944</td>\n",
       "      <td>0.000254</td>\n",
       "      <td>0.039295</td>\n",
       "      <td>0.665139</td>\n",
       "      <td>0.088044</td>\n",
       "      <td>2.256658</td>\n",
       "    </tr>\n",
       "    <tr>\n",
       "      <th>...</th>\n",
       "      <td>...</td>\n",
       "      <td>...</td>\n",
       "      <td>...</td>\n",
       "      <td>...</td>\n",
       "      <td>...</td>\n",
       "      <td>...</td>\n",
       "      <td>...</td>\n",
       "      <td>...</td>\n",
       "      <td>...</td>\n",
       "      <td>...</td>\n",
       "    </tr>\n",
       "    <tr>\n",
       "      <th>TGTTCGTGGCGTCGTG-1</th>\n",
       "      <td>5.995681</td>\n",
       "      <td>4.642933</td>\n",
       "      <td>0.486700</td>\n",
       "      <td>4.879591</td>\n",
       "      <td>1.257069</td>\n",
       "      <td>0.000173</td>\n",
       "      <td>0.169890</td>\n",
       "      <td>3.121660</td>\n",
       "      <td>0.000187</td>\n",
       "      <td>1.015401</td>\n",
       "    </tr>\n",
       "    <tr>\n",
       "      <th>TGTTGCCAGTCGCCTG-1</th>\n",
       "      <td>2.506289</td>\n",
       "      <td>5.144205</td>\n",
       "      <td>0.201334</td>\n",
       "      <td>5.701785</td>\n",
       "      <td>1.374159</td>\n",
       "      <td>0.000336</td>\n",
       "      <td>0.117662</td>\n",
       "      <td>0.730019</td>\n",
       "      <td>0.103629</td>\n",
       "      <td>0.068572</td>\n",
       "    </tr>\n",
       "    <tr>\n",
       "      <th>TGTTGGCCTGTAGCGG-1</th>\n",
       "      <td>22.806515</td>\n",
       "      <td>2.919701</td>\n",
       "      <td>0.177095</td>\n",
       "      <td>3.430548</td>\n",
       "      <td>0.108269</td>\n",
       "      <td>0.156520</td>\n",
       "      <td>0.000382</td>\n",
       "      <td>0.000829</td>\n",
       "      <td>0.000141</td>\n",
       "      <td>0.002196</td>\n",
       "    </tr>\n",
       "    <tr>\n",
       "      <th>TGTTGGTGCGGAATCA-1</th>\n",
       "      <td>11.223494</td>\n",
       "      <td>5.873017</td>\n",
       "      <td>0.271154</td>\n",
       "      <td>1.595921</td>\n",
       "      <td>1.055309</td>\n",
       "      <td>0.089263</td>\n",
       "      <td>0.158152</td>\n",
       "      <td>1.140372</td>\n",
       "      <td>0.000362</td>\n",
       "      <td>0.000414</td>\n",
       "    </tr>\n",
       "    <tr>\n",
       "      <th>TGTTGGTGGACTCAGG-1</th>\n",
       "      <td>7.917011</td>\n",
       "      <td>3.787903</td>\n",
       "      <td>0.305944</td>\n",
       "      <td>2.349280</td>\n",
       "      <td>0.657384</td>\n",
       "      <td>0.000211</td>\n",
       "      <td>0.301591</td>\n",
       "      <td>2.668975</td>\n",
       "      <td>0.000195</td>\n",
       "      <td>0.490575</td>\n",
       "    </tr>\n",
       "  </tbody>\n",
       "</table>\n",
       "<p>1808 rows × 10 columns</p>\n",
       "</div>"
      ],
      "text/plain": [
       "                    Fibroblasts  Endothelial cells  Immune-T cells  \\\n",
       "AACACGTTGATACCGC-1     9.619183           4.209319        0.000574   \n",
       "AACAGGCCATTGTCAC-1     8.687117           7.135786        0.000425   \n",
       "AACAGTATCCGCCTGG-1    13.345734          15.248071        0.138977   \n",
       "AACATACTCCACAGTT-1    10.670270          11.436491        0.000540   \n",
       "AACATAGGTTGGCACC-1     4.944032           9.074845        0.022946   \n",
       "...                         ...                ...             ...   \n",
       "TGTTCGTGGCGTCGTG-1     5.995681           4.642933        0.486700   \n",
       "TGTTGCCAGTCGCCTG-1     2.506289           5.144205        0.201334   \n",
       "TGTTGGCCTGTAGCGG-1    22.806515           2.919701        0.177095   \n",
       "TGTTGGTGCGGAATCA-1    11.223494           5.873017        0.271154   \n",
       "TGTTGGTGGACTCAGG-1     7.917011           3.787903        0.305944   \n",
       "\n",
       "                    Macrophages  Cardiomyocytes  Smooth muscle cells  \\\n",
       "AACACGTTGATACCGC-1     5.481513        1.799357             0.994209   \n",
       "AACAGGCCATTGTCAC-1     4.224581        1.625298             0.421930   \n",
       "AACAGTATCCGCCTGG-1    11.379629        2.532132             0.659650   \n",
       "AACATACTCCACAGTT-1     6.080512        2.687811             0.000179   \n",
       "AACATAGGTTGGCACC-1     2.747240        1.042944             0.000254   \n",
       "...                         ...             ...                  ...   \n",
       "TGTTCGTGGCGTCGTG-1     4.879591        1.257069             0.000173   \n",
       "TGTTGCCAGTCGCCTG-1     5.701785        1.374159             0.000336   \n",
       "TGTTGGCCTGTAGCGG-1     3.430548        0.108269             0.156520   \n",
       "TGTTGGTGCGGAATCA-1     1.595921        1.055309             0.089263   \n",
       "TGTTGGTGGACTCAGG-1     2.349280        0.657384             0.000211   \n",
       "\n",
       "                    Immune-B cells  Pericytes  Dentritic cells  \\\n",
       "AACACGTTGATACCGC-1        0.122888   1.849255         0.133543   \n",
       "AACAGGCCATTGTCAC-1        0.734737   0.550454         0.127161   \n",
       "AACAGTATCCGCCTGG-1        0.126224   2.343225         1.931582   \n",
       "AACATACTCCACAGTT-1        0.000472   3.408780         0.149829   \n",
       "AACATAGGTTGGCACC-1        0.039295   0.665139         0.088044   \n",
       "...                            ...        ...              ...   \n",
       "TGTTCGTGGCGTCGTG-1        0.169890   3.121660         0.000187   \n",
       "TGTTGCCAGTCGCCTG-1        0.117662   0.730019         0.103629   \n",
       "TGTTGGCCTGTAGCGG-1        0.000382   0.000829         0.000141   \n",
       "TGTTGGTGCGGAATCA-1        0.158152   1.140372         0.000362   \n",
       "TGTTGGTGGACTCAGG-1        0.301591   2.668975         0.000195   \n",
       "\n",
       "                    Epicardial cells  \n",
       "AACACGTTGATACCGC-1          0.302334  \n",
       "AACAGGCCATTGTCAC-1          1.055588  \n",
       "AACAGTATCCGCCTGG-1          0.088741  \n",
       "AACATACTCCACAGTT-1          1.851625  \n",
       "AACATAGGTTGGCACC-1          2.256658  \n",
       "...                              ...  \n",
       "TGTTCGTGGCGTCGTG-1          1.015401  \n",
       "TGTTGCCAGTCGCCTG-1          0.068572  \n",
       "TGTTGGCCTGTAGCGG-1          0.002196  \n",
       "TGTTGGTGCGGAATCA-1          0.000414  \n",
       "TGTTGGTGGACTCAGG-1          0.490575  \n",
       "\n",
       "[1808 rows x 10 columns]"
      ]
     },
     "execution_count": 21,
     "metadata": {},
     "output_type": "execute_result"
    }
   ],
   "source": [
    "adata_st.obsm[\"tangram_ct_pred\"]"
   ]
  },
  {
   "cell_type": "code",
   "execution_count": 22,
   "id": "1712e1c8-4098-4509-a8ca-71c3acc33d1b",
   "metadata": {},
   "outputs": [
    {
     "data": {
      "text/plain": [
       "AACACGTTGATACCGC-1    24.512173\n",
       "AACAGGCCATTGTCAC-1    24.563078\n",
       "AACAGTATCCGCCTGG-1    47.793964\n",
       "AACATACTCCACAGTT-1    36.286509\n",
       "AACATAGGTTGGCACC-1    20.881396\n",
       "                        ...    \n",
       "TGTTCGTGGCGTCGTG-1    21.569286\n",
       "TGTTGCCAGTCGCCTG-1    15.947990\n",
       "TGTTGGCCTGTAGCGG-1    29.602197\n",
       "TGTTGGTGCGGAATCA-1    21.407458\n",
       "TGTTGGTGGACTCAGG-1    18.479068\n",
       "Length: 1808, dtype: float64"
      ]
     },
     "execution_count": 22,
     "metadata": {},
     "output_type": "execute_result"
    }
   ],
   "source": [
    "np.sum(adata_st.obsm[\"tangram_ct_pred\"],axis=1) #Row sums."
   ]
  },
  {
   "cell_type": "code",
   "execution_count": 23,
   "id": "af13212f-c249-4b7b-b830-83fd2f068d54",
   "metadata": {},
   "outputs": [
    {
     "data": {
      "text/plain": [
       "Fibroblasts            18689.002637\n",
       "Endothelial cells       8759.000692\n",
       "Immune-T cells           429.999996\n",
       "Macrophages            10181.001077\n",
       "Cardiomyocytes          1931.000010\n",
       "Smooth muscle cells      355.000003\n",
       "Immune-B cells           282.000004\n",
       "Pericytes               2703.000104\n",
       "Dentritic cells          263.000005\n",
       "Epicardial cells         980.000039\n",
       "dtype: float64"
      ]
     },
     "execution_count": 23,
     "metadata": {},
     "output_type": "execute_result"
    }
   ],
   "source": [
    "np.sum(adata_st.obsm[\"tangram_ct_pred\"]) #Column sums."
   ]
  },
  {
   "cell_type": "code",
   "execution_count": 24,
   "id": "e3aa4502-c061-45fd-9a8d-577a6299fd4f",
   "metadata": {},
   "outputs": [
    {
     "data": {
      "text/plain": [
       "np.float64(44573.00456662309)"
      ]
     },
     "execution_count": 24,
     "metadata": {},
     "output_type": "execute_result"
    }
   ],
   "source": [
    "np.sum(np.sum(adata_st.obsm[\"tangram_ct_pred\"])) #Total sum. 44573."
   ]
  },
  {
   "cell_type": "markdown",
   "id": "1aa946ca-9373-4d98-8a4b-84ffa3b6df24",
   "metadata": {},
   "source": [
    "Tangram plotting function doesn't work."
   ]
  },
  {
   "cell_type": "code",
   "execution_count": 25,
   "id": "46d28705-cd7e-4360-a943-e684bce2ca03",
   "metadata": {},
   "outputs": [],
   "source": [
    "adata_st.obsm[\"tangram_ct_pred\"].to_csv(f\"/home/hezhou/_Projects/25.02.27_Jielin_Senescence/25.04.07_spatialCellTypes/1.4_resultTangram/{spatialSample}.csv\")"
   ]
  },
  {
   "cell_type": "code",
   "execution_count": null,
   "id": "14f0ffc5-af58-4d5d-a99e-49e45bd4ed65",
   "metadata": {},
   "outputs": [],
   "source": []
  }
 ],
 "metadata": {
  "kernelspec": {
   "display_name": "Tangram-env-kernel",
   "language": "python",
   "name": "tangram-env-kernel"
  },
  "language_info": {
   "codemirror_mode": {
    "name": "ipython",
    "version": 3
   },
   "file_extension": ".py",
   "mimetype": "text/x-python",
   "name": "python",
   "nbconvert_exporter": "python",
   "pygments_lexer": "ipython3",
   "version": "3.13.2"
  }
 },
 "nbformat": 4,
 "nbformat_minor": 5
}
